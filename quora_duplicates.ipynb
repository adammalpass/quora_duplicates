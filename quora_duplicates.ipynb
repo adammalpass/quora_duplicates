{
 "cells": [
  {
   "cell_type": "code",
   "execution_count": 1,
   "metadata": {
    "collapsed": true
   },
   "outputs": [],
   "source": [
    "# Select algorithm to use as machine learner\n",
    "# 0 = Linear Regression\n",
    "# 1 = SVR  (not recommended - too slow)\n",
    "# 2 = Decision Tree\n",
    "# 3 = Random Forest\n",
    "# 4 = XGBoost\n",
    "\n",
    "algorithm_choice = 4\n",
    "\n",
    "#Check a valid choice of algorithm has been made\n",
    "assert algorithm_choice in [0,1,2,3,4]"
   ]
  },
  {
   "cell_type": "code",
   "execution_count": 2,
   "metadata": {
    "collapsed": false
   },
   "outputs": [
    {
     "name": "stdout",
     "output_type": "stream",
     "text": [
      "Import successful\n"
     ]
    },
    {
     "name": "stderr",
     "output_type": "stream",
     "text": [
      "C:\\Users\\amalpass\\AppData\\Local\\Continuum\\Anaconda2\\lib\\site-packages\\pandas\\computation\\__init__.py:19: UserWarning: The installed version of numexpr 2.4.4 is not supported in pandas and will be not be used\n",
      "\n",
      "  UserWarning)\n"
     ]
    }
   ],
   "source": [
    "import pandas as pd\n",
    "from IPython.display import display # Allows the use of display() for DataFrames\n",
    "import numpy as np\n",
    "from nltk.stem import *\n",
    "\n",
    "import matplotlib.pyplot as plt\n",
    "import seaborn as sns\n",
    "%matplotlib inline\n",
    "\n",
    "print \"Import successful\""
   ]
  },
  {
   "cell_type": "code",
   "execution_count": 3,
   "metadata": {
    "collapsed": false
   },
   "outputs": [
    {
     "name": "stdout",
     "output_type": "stream",
     "text": [
      "Quora duplicate questions training dataset has 404290 samples with 6 features each.\n"
     ]
    }
   ],
   "source": [
    "try:\n",
    "    data = pd.read_csv(\"train.csv\")\n",
    "    \n",
    "    print \"Quora duplicate questions training dataset has {} samples with {} features each.\".format(*data.shape)\n",
    "    \n",
    "except:\n",
    "    print \"Dataset(s) could not be loaded. Please check filename is correct and dataset exists\""
   ]
  },
  {
   "cell_type": "code",
   "execution_count": 4,
   "metadata": {
    "collapsed": false
   },
   "outputs": [
    {
     "name": "stdout",
     "output_type": "stream",
     "text": [
      "Display sample of training data:\n"
     ]
    },
    {
     "data": {
      "text/html": [
       "<div>\n",
       "<table border=\"1\" class=\"dataframe\">\n",
       "  <thead>\n",
       "    <tr style=\"text-align: right;\">\n",
       "      <th></th>\n",
       "      <th>id</th>\n",
       "      <th>qid1</th>\n",
       "      <th>qid2</th>\n",
       "      <th>question1</th>\n",
       "      <th>question2</th>\n",
       "      <th>is_duplicate</th>\n",
       "    </tr>\n",
       "  </thead>\n",
       "  <tbody>\n",
       "    <tr>\n",
       "      <th>0</th>\n",
       "      <td>0</td>\n",
       "      <td>1</td>\n",
       "      <td>2</td>\n",
       "      <td>What is the step by step guide to invest in sh...</td>\n",
       "      <td>What is the step by step guide to invest in sh...</td>\n",
       "      <td>0</td>\n",
       "    </tr>\n",
       "    <tr>\n",
       "      <th>1</th>\n",
       "      <td>1</td>\n",
       "      <td>3</td>\n",
       "      <td>4</td>\n",
       "      <td>What is the story of Kohinoor (Koh-i-Noor) Dia...</td>\n",
       "      <td>What would happen if the Indian government sto...</td>\n",
       "      <td>0</td>\n",
       "    </tr>\n",
       "    <tr>\n",
       "      <th>2</th>\n",
       "      <td>2</td>\n",
       "      <td>5</td>\n",
       "      <td>6</td>\n",
       "      <td>How can I increase the speed of my internet co...</td>\n",
       "      <td>How can Internet speed be increased by hacking...</td>\n",
       "      <td>0</td>\n",
       "    </tr>\n",
       "    <tr>\n",
       "      <th>3</th>\n",
       "      <td>3</td>\n",
       "      <td>7</td>\n",
       "      <td>8</td>\n",
       "      <td>Why am I mentally very lonely? How can I solve...</td>\n",
       "      <td>Find the remainder when [math]23^{24}[/math] i...</td>\n",
       "      <td>0</td>\n",
       "    </tr>\n",
       "    <tr>\n",
       "      <th>4</th>\n",
       "      <td>4</td>\n",
       "      <td>9</td>\n",
       "      <td>10</td>\n",
       "      <td>Which one dissolve in water quikly sugar, salt...</td>\n",
       "      <td>Which fish would survive in salt water?</td>\n",
       "      <td>0</td>\n",
       "    </tr>\n",
       "    <tr>\n",
       "      <th>5</th>\n",
       "      <td>5</td>\n",
       "      <td>11</td>\n",
       "      <td>12</td>\n",
       "      <td>Astrology: I am a Capricorn Sun Cap moon and c...</td>\n",
       "      <td>I'm a triple Capricorn (Sun, Moon and ascendan...</td>\n",
       "      <td>1</td>\n",
       "    </tr>\n",
       "    <tr>\n",
       "      <th>6</th>\n",
       "      <td>6</td>\n",
       "      <td>13</td>\n",
       "      <td>14</td>\n",
       "      <td>Should I buy tiago?</td>\n",
       "      <td>What keeps childern active and far from phone ...</td>\n",
       "      <td>0</td>\n",
       "    </tr>\n",
       "    <tr>\n",
       "      <th>7</th>\n",
       "      <td>7</td>\n",
       "      <td>15</td>\n",
       "      <td>16</td>\n",
       "      <td>How can I be a good geologist?</td>\n",
       "      <td>What should I do to be a great geologist?</td>\n",
       "      <td>1</td>\n",
       "    </tr>\n",
       "    <tr>\n",
       "      <th>8</th>\n",
       "      <td>8</td>\n",
       "      <td>17</td>\n",
       "      <td>18</td>\n",
       "      <td>When do you use シ instead of し?</td>\n",
       "      <td>When do you use \"&amp;\" instead of \"and\"?</td>\n",
       "      <td>0</td>\n",
       "    </tr>\n",
       "    <tr>\n",
       "      <th>9</th>\n",
       "      <td>9</td>\n",
       "      <td>19</td>\n",
       "      <td>20</td>\n",
       "      <td>Motorola (company): Can I hack my Charter Moto...</td>\n",
       "      <td>How do I hack Motorola DCX3400 for free internet?</td>\n",
       "      <td>0</td>\n",
       "    </tr>\n",
       "  </tbody>\n",
       "</table>\n",
       "</div>"
      ],
      "text/plain": [
       "   id  qid1  qid2                                          question1  \\\n",
       "0   0     1     2  What is the step by step guide to invest in sh...   \n",
       "1   1     3     4  What is the story of Kohinoor (Koh-i-Noor) Dia...   \n",
       "2   2     5     6  How can I increase the speed of my internet co...   \n",
       "3   3     7     8  Why am I mentally very lonely? How can I solve...   \n",
       "4   4     9    10  Which one dissolve in water quikly sugar, salt...   \n",
       "5   5    11    12  Astrology: I am a Capricorn Sun Cap moon and c...   \n",
       "6   6    13    14                                Should I buy tiago?   \n",
       "7   7    15    16                     How can I be a good geologist?   \n",
       "8   8    17    18                    When do you use シ instead of し?   \n",
       "9   9    19    20  Motorola (company): Can I hack my Charter Moto...   \n",
       "\n",
       "                                           question2  is_duplicate  \n",
       "0  What is the step by step guide to invest in sh...             0  \n",
       "1  What would happen if the Indian government sto...             0  \n",
       "2  How can Internet speed be increased by hacking...             0  \n",
       "3  Find the remainder when [math]23^{24}[/math] i...             0  \n",
       "4            Which fish would survive in salt water?             0  \n",
       "5  I'm a triple Capricorn (Sun, Moon and ascendan...             1  \n",
       "6  What keeps childern active and far from phone ...             0  \n",
       "7          What should I do to be a great geologist?             1  \n",
       "8              When do you use \"&\" instead of \"and\"?             0  \n",
       "9  How do I hack Motorola DCX3400 for free internet?             0  "
      ]
     },
     "metadata": {},
     "output_type": "display_data"
    }
   ],
   "source": [
    "print \"Display sample of training data:\"\n",
    "display(data.head(10))"
   ]
  },
  {
   "cell_type": "code",
   "execution_count": 5,
   "metadata": {
    "collapsed": false
   },
   "outputs": [
    {
     "name": "stdout",
     "output_type": "stream",
     "text": [
      "Display statistics about training data:\n"
     ]
    },
    {
     "data": {
      "text/html": [
       "<div>\n",
       "<table border=\"1\" class=\"dataframe\">\n",
       "  <thead>\n",
       "    <tr style=\"text-align: right;\">\n",
       "      <th></th>\n",
       "      <th>id</th>\n",
       "      <th>qid1</th>\n",
       "      <th>qid2</th>\n",
       "      <th>is_duplicate</th>\n",
       "    </tr>\n",
       "  </thead>\n",
       "  <tbody>\n",
       "    <tr>\n",
       "      <th>count</th>\n",
       "      <td>404290.000000</td>\n",
       "      <td>404290.000000</td>\n",
       "      <td>404290.000000</td>\n",
       "      <td>404290.000000</td>\n",
       "    </tr>\n",
       "    <tr>\n",
       "      <th>mean</th>\n",
       "      <td>202144.500000</td>\n",
       "      <td>217243.942418</td>\n",
       "      <td>220955.655337</td>\n",
       "      <td>0.369198</td>\n",
       "    </tr>\n",
       "    <tr>\n",
       "      <th>std</th>\n",
       "      <td>116708.614502</td>\n",
       "      <td>157751.700002</td>\n",
       "      <td>159903.182629</td>\n",
       "      <td>0.482588</td>\n",
       "    </tr>\n",
       "    <tr>\n",
       "      <th>min</th>\n",
       "      <td>0.000000</td>\n",
       "      <td>1.000000</td>\n",
       "      <td>2.000000</td>\n",
       "      <td>0.000000</td>\n",
       "    </tr>\n",
       "    <tr>\n",
       "      <th>25%</th>\n",
       "      <td>101072.250000</td>\n",
       "      <td>74437.500000</td>\n",
       "      <td>74727.000000</td>\n",
       "      <td>0.000000</td>\n",
       "    </tr>\n",
       "    <tr>\n",
       "      <th>50%</th>\n",
       "      <td>202144.500000</td>\n",
       "      <td>192182.000000</td>\n",
       "      <td>197052.000000</td>\n",
       "      <td>0.000000</td>\n",
       "    </tr>\n",
       "    <tr>\n",
       "      <th>75%</th>\n",
       "      <td>303216.750000</td>\n",
       "      <td>346573.500000</td>\n",
       "      <td>354692.500000</td>\n",
       "      <td>1.000000</td>\n",
       "    </tr>\n",
       "    <tr>\n",
       "      <th>max</th>\n",
       "      <td>404289.000000</td>\n",
       "      <td>537932.000000</td>\n",
       "      <td>537933.000000</td>\n",
       "      <td>1.000000</td>\n",
       "    </tr>\n",
       "  </tbody>\n",
       "</table>\n",
       "</div>"
      ],
      "text/plain": [
       "                  id           qid1           qid2   is_duplicate\n",
       "count  404290.000000  404290.000000  404290.000000  404290.000000\n",
       "mean   202144.500000  217243.942418  220955.655337       0.369198\n",
       "std    116708.614502  157751.700002  159903.182629       0.482588\n",
       "min         0.000000       1.000000       2.000000       0.000000\n",
       "25%    101072.250000   74437.500000   74727.000000       0.000000\n",
       "50%    202144.500000  192182.000000  197052.000000       0.000000\n",
       "75%    303216.750000  346573.500000  354692.500000       1.000000\n",
       "max    404289.000000  537932.000000  537933.000000       1.000000"
      ]
     },
     "metadata": {},
     "output_type": "display_data"
    }
   ],
   "source": [
    "print \"Display statistics about training data:\"\n",
    "display(data.describe())"
   ]
  },
  {
   "cell_type": "code",
   "execution_count": 6,
   "metadata": {
    "collapsed": false
   },
   "outputs": [
    {
     "name": "stdout",
     "output_type": "stream",
     "text": [
      "Modified Quora duplicate questions training dataset has 404290 samples with 3 features each.\n"
     ]
    },
    {
     "data": {
      "text/plain": [
       "0    0\n",
       "1    0\n",
       "2    0\n",
       "3    0\n",
       "4    0\n",
       "5    1\n",
       "6    0\n",
       "7    1\n",
       "8    0\n",
       "9    0\n",
       "Name: is_duplicate, dtype: int64"
      ]
     },
     "metadata": {},
     "output_type": "display_data"
    },
    {
     "data": {
      "text/html": [
       "<div>\n",
       "<table border=\"1\" class=\"dataframe\">\n",
       "  <thead>\n",
       "    <tr style=\"text-align: right;\">\n",
       "      <th></th>\n",
       "      <th>question1</th>\n",
       "      <th>question2</th>\n",
       "    </tr>\n",
       "  </thead>\n",
       "  <tbody>\n",
       "    <tr>\n",
       "      <th>0</th>\n",
       "      <td>What is the step by step guide to invest in sh...</td>\n",
       "      <td>What is the step by step guide to invest in sh...</td>\n",
       "    </tr>\n",
       "    <tr>\n",
       "      <th>1</th>\n",
       "      <td>What is the story of Kohinoor (Koh-i-Noor) Dia...</td>\n",
       "      <td>What would happen if the Indian government sto...</td>\n",
       "    </tr>\n",
       "    <tr>\n",
       "      <th>2</th>\n",
       "      <td>How can I increase the speed of my internet co...</td>\n",
       "      <td>How can Internet speed be increased by hacking...</td>\n",
       "    </tr>\n",
       "    <tr>\n",
       "      <th>3</th>\n",
       "      <td>Why am I mentally very lonely? How can I solve...</td>\n",
       "      <td>Find the remainder when [math]23^{24}[/math] i...</td>\n",
       "    </tr>\n",
       "    <tr>\n",
       "      <th>4</th>\n",
       "      <td>Which one dissolve in water quikly sugar, salt...</td>\n",
       "      <td>Which fish would survive in salt water?</td>\n",
       "    </tr>\n",
       "    <tr>\n",
       "      <th>5</th>\n",
       "      <td>Astrology: I am a Capricorn Sun Cap moon and c...</td>\n",
       "      <td>I'm a triple Capricorn (Sun, Moon and ascendan...</td>\n",
       "    </tr>\n",
       "    <tr>\n",
       "      <th>6</th>\n",
       "      <td>Should I buy tiago?</td>\n",
       "      <td>What keeps childern active and far from phone ...</td>\n",
       "    </tr>\n",
       "    <tr>\n",
       "      <th>7</th>\n",
       "      <td>How can I be a good geologist?</td>\n",
       "      <td>What should I do to be a great geologist?</td>\n",
       "    </tr>\n",
       "    <tr>\n",
       "      <th>8</th>\n",
       "      <td>When do you use シ instead of し?</td>\n",
       "      <td>When do you use \"&amp;\" instead of \"and\"?</td>\n",
       "    </tr>\n",
       "    <tr>\n",
       "      <th>9</th>\n",
       "      <td>Motorola (company): Can I hack my Charter Moto...</td>\n",
       "      <td>How do I hack Motorola DCX3400 for free internet?</td>\n",
       "    </tr>\n",
       "  </tbody>\n",
       "</table>\n",
       "</div>"
      ],
      "text/plain": [
       "                                           question1  \\\n",
       "0  What is the step by step guide to invest in sh...   \n",
       "1  What is the story of Kohinoor (Koh-i-Noor) Dia...   \n",
       "2  How can I increase the speed of my internet co...   \n",
       "3  Why am I mentally very lonely? How can I solve...   \n",
       "4  Which one dissolve in water quikly sugar, salt...   \n",
       "5  Astrology: I am a Capricorn Sun Cap moon and c...   \n",
       "6                                Should I buy tiago?   \n",
       "7                     How can I be a good geologist?   \n",
       "8                    When do you use シ instead of し?   \n",
       "9  Motorola (company): Can I hack my Charter Moto...   \n",
       "\n",
       "                                           question2  \n",
       "0  What is the step by step guide to invest in sh...  \n",
       "1  What would happen if the Indian government sto...  \n",
       "2  How can Internet speed be increased by hacking...  \n",
       "3  Find the remainder when [math]23^{24}[/math] i...  \n",
       "4            Which fish would survive in salt water?  \n",
       "5  I'm a triple Capricorn (Sun, Moon and ascendan...  \n",
       "6  What keeps childern active and far from phone ...  \n",
       "7          What should I do to be a great geologist?  \n",
       "8              When do you use \"&\" instead of \"and\"?  \n",
       "9  How do I hack Motorola DCX3400 for free internet?  "
      ]
     },
     "metadata": {},
     "output_type": "display_data"
    }
   ],
   "source": [
    "#question ids not useful information\n",
    "data.drop(['id', 'qid1', 'qid2'], axis = 1, inplace = True)\n",
    "\n",
    "#data.dropna(how = \"any\", axis = 0, inplace = True)\n",
    "data.fillna(value = \"\", axis = 0, inplace = True)\n",
    "\n",
    "print \"Modified Quora duplicate questions training dataset has {} samples with {} features each.\".format(*data.shape)\n",
    "\n",
    "#split into features and results\n",
    "results = data['is_duplicate']\n",
    "features_raw = data.drop('is_duplicate', axis = 1)\n",
    "\n",
    "#check training features and results are as expected\n",
    "display(results.head(10))\n",
    "display(features_raw.head(10))"
   ]
  },
  {
   "cell_type": "code",
   "execution_count": 7,
   "metadata": {
    "collapsed": false
   },
   "outputs": [],
   "source": [
    "from sklearn.feature_extraction import stop_words\n",
    "\n",
    "def remove_stop_words(x):\n",
    "    \"\"\"Preprocess text to remove 'stopwords' from it (common words with little useful information)\"\"\"\n",
    "    try:\n",
    "        original_words = x.split()\n",
    "        output = \" \"\n",
    "\n",
    "        for word in original_words:\n",
    "            if not word in stop_words.ENGLISH_STOP_WORDS:\n",
    "                output += word + \" \"\n",
    "\n",
    "        return output[:-1]\n",
    "    except: #for the case of NaN entries\n",
    "        return \"\""
   ]
  },
  {
   "cell_type": "code",
   "execution_count": 8,
   "metadata": {
    "collapsed": false
   },
   "outputs": [
    {
     "name": "stdout",
     "output_type": "stream",
     "text": [
      " Say hello cat\n",
      " I years old\n"
     ]
    }
   ],
   "source": [
    "#Test that the remove_stop_words function works as expected\n",
    "print remove_stop_words(\"Say hello to the cat\")\n",
    "print remove_stop_words(\"I am six years old\")"
   ]
  },
  {
   "cell_type": "code",
   "execution_count": 9,
   "metadata": {
    "collapsed": true
   },
   "outputs": [],
   "source": [
    "def to_lower_case(x):\n",
    "    \"\"\"Convert all text to lowercase\"\"\"\n",
    "    try:\n",
    "        return x.lower()\n",
    "    except:\n",
    "        return \"\""
   ]
  },
  {
   "cell_type": "code",
   "execution_count": 10,
   "metadata": {
    "collapsed": true
   },
   "outputs": [],
   "source": [
    "#Reference - http://www.nltk.org/howto/stem.html\n",
    "\n",
    "stemmer = SnowballStemmer(\"english\")\n",
    "\n",
    "def stem_words(x):\n",
    "    \"\"\"Preprocess text to stem all words (e.g. remove plurals, verb ending, etc)\"\"\"\n",
    "    try:\n",
    "        original_words = x.split()\n",
    "        output = \" \"\n",
    "\n",
    "        for word in original_words:\n",
    "            output += stemmer.stem(word) + \" \"\n",
    "\n",
    "        return output[:-1]\n",
    "    except: #for the case of NaN entries\n",
    "        return \"\"\n",
    "    "
   ]
  },
  {
   "cell_type": "code",
   "execution_count": 11,
   "metadata": {
    "collapsed": false
   },
   "outputs": [
    {
     "name": "stdout",
     "output_type": "stream",
     "text": [
      "hello\n",
      "run\n",
      "forgotten\n",
      "turn\n",
      "turn\n",
      "turn\n",
      " i am return from run to the park after i ate some sandwich quick\n"
     ]
    }
   ],
   "source": [
    "test_words = [\"hello\", \"running\", \"forgotten\", \"turned\", \"turns\", \"turning\"]\n",
    "\n",
    "for w in test_words:\n",
    "    print(stemmer.stem(w))\n",
    "    \n",
    "test_sentence = \"I am returning from running to the park after I ate some sandwiches quickly\"\n",
    "print stem_words(test_sentence)"
   ]
  },
  {
   "cell_type": "code",
   "execution_count": 12,
   "metadata": {
    "collapsed": false
   },
   "outputs": [
    {
     "data": {
      "text/html": [
       "<div>\n",
       "<table border=\"1\" class=\"dataframe\">\n",
       "  <thead>\n",
       "    <tr style=\"text-align: right;\">\n",
       "      <th></th>\n",
       "      <th>question1</th>\n",
       "      <th>question2</th>\n",
       "    </tr>\n",
       "  </thead>\n",
       "  <tbody>\n",
       "    <tr>\n",
       "      <th>0</th>\n",
       "      <td>What is the step by step guide to invest in sh...</td>\n",
       "      <td>What is the step by step guide to invest in sh...</td>\n",
       "    </tr>\n",
       "    <tr>\n",
       "      <th>1</th>\n",
       "      <td>What is the story of Kohinoor (Koh-i-Noor) Dia...</td>\n",
       "      <td>What would happen if the Indian government sto...</td>\n",
       "    </tr>\n",
       "    <tr>\n",
       "      <th>2</th>\n",
       "      <td>How can I increase the speed of my internet co...</td>\n",
       "      <td>How can Internet speed be increased by hacking...</td>\n",
       "    </tr>\n",
       "    <tr>\n",
       "      <th>3</th>\n",
       "      <td>Why am I mentally very lonely? How can I solve...</td>\n",
       "      <td>Find the remainder when [math]23^{24}[/math] i...</td>\n",
       "    </tr>\n",
       "    <tr>\n",
       "      <th>4</th>\n",
       "      <td>Which one dissolve in water quikly sugar, salt...</td>\n",
       "      <td>Which fish would survive in salt water?</td>\n",
       "    </tr>\n",
       "    <tr>\n",
       "      <th>5</th>\n",
       "      <td>Astrology: I am a Capricorn Sun Cap moon and c...</td>\n",
       "      <td>I'm a triple Capricorn (Sun, Moon and ascendan...</td>\n",
       "    </tr>\n",
       "    <tr>\n",
       "      <th>6</th>\n",
       "      <td>Should I buy tiago?</td>\n",
       "      <td>What keeps childern active and far from phone ...</td>\n",
       "    </tr>\n",
       "    <tr>\n",
       "      <th>7</th>\n",
       "      <td>How can I be a good geologist?</td>\n",
       "      <td>What should I do to be a great geologist?</td>\n",
       "    </tr>\n",
       "    <tr>\n",
       "      <th>8</th>\n",
       "      <td>When do you use シ instead of し?</td>\n",
       "      <td>When do you use \"&amp;\" instead of \"and\"?</td>\n",
       "    </tr>\n",
       "    <tr>\n",
       "      <th>9</th>\n",
       "      <td>Motorola (company): Can I hack my Charter Moto...</td>\n",
       "      <td>How do I hack Motorola DCX3400 for free internet?</td>\n",
       "    </tr>\n",
       "  </tbody>\n",
       "</table>\n",
       "</div>"
      ],
      "text/plain": [
       "                                           question1  \\\n",
       "0  What is the step by step guide to invest in sh...   \n",
       "1  What is the story of Kohinoor (Koh-i-Noor) Dia...   \n",
       "2  How can I increase the speed of my internet co...   \n",
       "3  Why am I mentally very lonely? How can I solve...   \n",
       "4  Which one dissolve in water quikly sugar, salt...   \n",
       "5  Astrology: I am a Capricorn Sun Cap moon and c...   \n",
       "6                                Should I buy tiago?   \n",
       "7                     How can I be a good geologist?   \n",
       "8                    When do you use シ instead of し?   \n",
       "9  Motorola (company): Can I hack my Charter Moto...   \n",
       "\n",
       "                                           question2  \n",
       "0  What is the step by step guide to invest in sh...  \n",
       "1  What would happen if the Indian government sto...  \n",
       "2  How can Internet speed be increased by hacking...  \n",
       "3  Find the remainder when [math]23^{24}[/math] i...  \n",
       "4            Which fish would survive in salt water?  \n",
       "5  I'm a triple Capricorn (Sun, Moon and ascendan...  \n",
       "6  What keeps childern active and far from phone ...  \n",
       "7          What should I do to be a great geologist?  \n",
       "8              When do you use \"&\" instead of \"and\"?  \n",
       "9  How do I hack Motorola DCX3400 for free internet?  "
      ]
     },
     "metadata": {},
     "output_type": "display_data"
    },
    {
     "data": {
      "text/html": [
       "<div>\n",
       "<table border=\"1\" class=\"dataframe\">\n",
       "  <thead>\n",
       "    <tr style=\"text-align: right;\">\n",
       "      <th></th>\n",
       "      <th>question1</th>\n",
       "      <th>question2</th>\n",
       "    </tr>\n",
       "  </thead>\n",
       "  <tbody>\n",
       "    <tr>\n",
       "      <th>0</th>\n",
       "      <td>step step guid invest share market india?</td>\n",
       "      <td>step step guid invest share market?</td>\n",
       "    </tr>\n",
       "    <tr>\n",
       "      <th>1</th>\n",
       "      <td>stori kohinoor (koh-i-noor) diamond?</td>\n",
       "      <td>happen indian govern stole kohinoor (koh-i-no...</td>\n",
       "    </tr>\n",
       "    <tr>\n",
       "      <th>2</th>\n",
       "      <td>increas speed internet connect use vpn?</td>\n",
       "      <td>internet speed increas hack dns?</td>\n",
       "    </tr>\n",
       "    <tr>\n",
       "      <th>3</th>\n",
       "      <td>mental lonely? solv it?</td>\n",
       "      <td>remaind [math]23^{24}[/math] divid 24,23?</td>\n",
       "    </tr>\n",
       "    <tr>\n",
       "      <th>4</th>\n",
       "      <td>dissolv water quik sugar, salt, methan carbon...</td>\n",
       "      <td>fish surviv salt water?</td>\n",
       "    </tr>\n",
       "    <tr>\n",
       "      <th>5</th>\n",
       "      <td>astrology: capricorn sun cap moon cap rising....</td>\n",
       "      <td>i'm tripl capricorn (sun, moon ascend caprico...</td>\n",
       "    </tr>\n",
       "    <tr>\n",
       "      <th>6</th>\n",
       "      <td>buy tiago?</td>\n",
       "      <td>keep childern activ far phone video games?</td>\n",
       "    </tr>\n",
       "    <tr>\n",
       "      <th>7</th>\n",
       "      <td>good geologist?</td>\n",
       "      <td>great geologist?</td>\n",
       "    </tr>\n",
       "    <tr>\n",
       "      <th>8</th>\n",
       "      <td></td>\n",
       "      <td>use \"&amp;\" instead \"and\"?</td>\n",
       "    </tr>\n",
       "    <tr>\n",
       "      <th>9</th>\n",
       "      <td>motorola (company): hack charter motorolla dc...</td>\n",
       "      <td>hack motorola dcx3400 free internet?</td>\n",
       "    </tr>\n",
       "  </tbody>\n",
       "</table>\n",
       "</div>"
      ],
      "text/plain": [
       "                                           question1  \\\n",
       "0          step step guid invest share market india?   \n",
       "1               stori kohinoor (koh-i-noor) diamond?   \n",
       "2            increas speed internet connect use vpn?   \n",
       "3                            mental lonely? solv it?   \n",
       "4   dissolv water quik sugar, salt, methan carbon...   \n",
       "5   astrology: capricorn sun cap moon cap rising....   \n",
       "6                                         buy tiago?   \n",
       "7                                    good geologist?   \n",
       "8                                                      \n",
       "9   motorola (company): hack charter motorolla dc...   \n",
       "\n",
       "                                           question2  \n",
       "0                step step guid invest share market?  \n",
       "1   happen indian govern stole kohinoor (koh-i-no...  \n",
       "2                   internet speed increas hack dns?  \n",
       "3          remaind [math]23^{24}[/math] divid 24,23?  \n",
       "4                            fish surviv salt water?  \n",
       "5   i'm tripl capricorn (sun, moon ascend caprico...  \n",
       "6         keep childern activ far phone video games?  \n",
       "7                                   great geologist?  \n",
       "8                             use \"&\" instead \"and\"?  \n",
       "9               hack motorola dcx3400 free internet?  "
      ]
     },
     "metadata": {},
     "output_type": "display_data"
    }
   ],
   "source": [
    "### Data pre-processing ###\n",
    "\n",
    "display(features_raw.head(10))\n",
    "\n",
    "#Make all text lower case\n",
    "features_raw[\"question1\"] = features_raw[\"question1\"].apply(to_lower_case)\n",
    "features_raw[\"question2\"] = features_raw[\"question2\"].apply(to_lower_case)\n",
    "\n",
    "#Remove stopwords\n",
    "features_raw[\"question1\"] = features_raw[\"question1\"].apply(remove_stop_words)\n",
    "features_raw[\"question2\"] = features_raw[\"question2\"].apply(remove_stop_words)\n",
    "\n",
    "#Stem all words\n",
    "features_raw[\"question1\"] = features_raw[\"question1\"].apply(stem_words)\n",
    "features_raw[\"question2\"] = features_raw[\"question2\"].apply(stem_words)\n",
    "\n",
    "display(features_raw.head(10))"
   ]
  },
  {
   "cell_type": "code",
   "execution_count": 13,
   "metadata": {
    "collapsed": true
   },
   "outputs": [],
   "source": [
    "def diff_num_chars(x):\n",
    "    \"\"\"Create new feature - return the absolute difference in length of both questions, in terms of total number of chars\"\"\"\n",
    "    try:\n",
    "        len1 = len(x[\"question1\"])\n",
    "        len2 = len(x[\"question2\"])\n",
    "        return np.absolute(len1 - len2)\n",
    "    except:\n",
    "        print x[\"question1\"]    #print unexpected output for debug\n",
    "        print x[\"question2\"]\n",
    "        return 500 #penalty diff num chars"
   ]
  },
  {
   "cell_type": "code",
   "execution_count": 14,
   "metadata": {
    "collapsed": false
   },
   "outputs": [],
   "source": [
    "def diff_num_words(x):\n",
    "    \"\"\"Create new feature - return the absolute difference in length of both questions, in terms of total number of words\"\"\"\n",
    "    try:\n",
    "        len1 = len(x[\"question1\"].split())\n",
    "        len2 = len(x[\"question2\"].split())\n",
    "        return np.absolute(len1 - len2)\n",
    "    except:\n",
    "        print x[\"question1\"]   #print unexpected output for debug\n",
    "        print x[\"question2\"]\n",
    "        return 100 #penalty diff num words"
   ]
  },
  {
   "cell_type": "code",
   "execution_count": 15,
   "metadata": {
    "collapsed": true
   },
   "outputs": [],
   "source": [
    "def num_common_words(x):\n",
    "    \"\"\"Create new feature - return the number of common words between both questions\"\"\"\n",
    "    try:\n",
    "        words1 = x[\"question1\"].split()\n",
    "        words2 = x[\"question2\"].split()\n",
    "        \n",
    "        common_words = 0\n",
    "        \n",
    "        for word in words1:\n",
    "            word_l = word\n",
    "            if word in words2:\n",
    "                common_words += 1\n",
    "                \n",
    "        return common_words\n",
    "        \n",
    "    except:\n",
    "        print x[\"question1\"]  #print unexpected output for debug\n",
    "        print x[\"question2\"]\n",
    "        return 0"
   ]
  },
  {
   "cell_type": "code",
   "execution_count": 16,
   "metadata": {
    "collapsed": true
   },
   "outputs": [],
   "source": [
    "def ratio_common_words(x):\n",
    "    \"\"\"Create new feature - return ratio of common words between both questions\"\"\"\n",
    "    try:\n",
    "        return 1.0 * num_common_words(x) / (len(x[\"question1\"].split()) + len(x[\"question2\"].split()))\n",
    "    except:\n",
    "        return 0"
   ]
  },
  {
   "cell_type": "code",
   "execution_count": 17,
   "metadata": {
    "collapsed": false
   },
   "outputs": [
    {
     "data": {
      "text/html": [
       "<div>\n",
       "<table border=\"1\" class=\"dataframe\">\n",
       "  <thead>\n",
       "    <tr style=\"text-align: right;\">\n",
       "      <th></th>\n",
       "      <th>diff_num_chars</th>\n",
       "      <th>diff_num_words</th>\n",
       "      <th>num_common_words</th>\n",
       "      <th>ratio_common_words</th>\n",
       "    </tr>\n",
       "  </thead>\n",
       "  <tbody>\n",
       "    <tr>\n",
       "      <th>0</th>\n",
       "      <td>6</td>\n",
       "      <td>1</td>\n",
       "      <td>5</td>\n",
       "      <td>0.384615</td>\n",
       "    </tr>\n",
       "    <tr>\n",
       "      <th>1</th>\n",
       "      <td>26</td>\n",
       "      <td>4</td>\n",
       "      <td>2</td>\n",
       "      <td>0.166667</td>\n",
       "    </tr>\n",
       "    <tr>\n",
       "      <th>2</th>\n",
       "      <td>7</td>\n",
       "      <td>1</td>\n",
       "      <td>3</td>\n",
       "      <td>0.272727</td>\n",
       "    </tr>\n",
       "    <tr>\n",
       "      <th>3</th>\n",
       "      <td>18</td>\n",
       "      <td>0</td>\n",
       "      <td>0</td>\n",
       "      <td>0.000000</td>\n",
       "    </tr>\n",
       "    <tr>\n",
       "      <th>4</th>\n",
       "      <td>32</td>\n",
       "      <td>5</td>\n",
       "      <td>0</td>\n",
       "      <td>0.000000</td>\n",
       "    </tr>\n",
       "    <tr>\n",
       "      <th>5</th>\n",
       "      <td>3</td>\n",
       "      <td>0</td>\n",
       "      <td>5</td>\n",
       "      <td>0.250000</td>\n",
       "    </tr>\n",
       "    <tr>\n",
       "      <th>6</th>\n",
       "      <td>32</td>\n",
       "      <td>5</td>\n",
       "      <td>0</td>\n",
       "      <td>0.000000</td>\n",
       "    </tr>\n",
       "    <tr>\n",
       "      <th>7</th>\n",
       "      <td>1</td>\n",
       "      <td>0</td>\n",
       "      <td>1</td>\n",
       "      <td>0.250000</td>\n",
       "    </tr>\n",
       "    <tr>\n",
       "      <th>8</th>\n",
       "      <td>23</td>\n",
       "      <td>4</td>\n",
       "      <td>0</td>\n",
       "      <td>0.000000</td>\n",
       "    </tr>\n",
       "    <tr>\n",
       "      <th>9</th>\n",
       "      <td>15</td>\n",
       "      <td>1</td>\n",
       "      <td>2</td>\n",
       "      <td>0.181818</td>\n",
       "    </tr>\n",
       "  </tbody>\n",
       "</table>\n",
       "</div>"
      ],
      "text/plain": [
       "   diff_num_chars  diff_num_words  num_common_words  ratio_common_words\n",
       "0               6               1                 5            0.384615\n",
       "1              26               4                 2            0.166667\n",
       "2               7               1                 3            0.272727\n",
       "3              18               0                 0            0.000000\n",
       "4              32               5                 0            0.000000\n",
       "5               3               0                 5            0.250000\n",
       "6              32               5                 0            0.000000\n",
       "7               1               0                 1            0.250000\n",
       "8              23               4                 0            0.000000\n",
       "9              15               1                 2            0.181818"
      ]
     },
     "metadata": {},
     "output_type": "display_data"
    }
   ],
   "source": [
    "features = pd.DataFrame()\n",
    "features[\"diff_num_chars\"] = features_raw.apply(diff_num_chars, axis=1)\n",
    "features[\"diff_num_words\"] = features_raw.apply(diff_num_words, axis=1)\n",
    "features[\"num_common_words\"] = features_raw.apply(num_common_words, axis=1)\n",
    "features[\"ratio_common_words\"] = features_raw.apply(ratio_common_words, axis=1)\n",
    "display(features.head(10))"
   ]
  },
  {
   "cell_type": "code",
   "execution_count": 18,
   "metadata": {
    "collapsed": false
   },
   "outputs": [
    {
     "data": {
      "text/html": [
       "<div>\n",
       "<table border=\"1\" class=\"dataframe\">\n",
       "  <thead>\n",
       "    <tr style=\"text-align: right;\">\n",
       "      <th></th>\n",
       "      <th>diff_num_chars</th>\n",
       "      <th>diff_num_words</th>\n",
       "      <th>num_common_words</th>\n",
       "      <th>ratio_common_words</th>\n",
       "    </tr>\n",
       "  </thead>\n",
       "  <tbody>\n",
       "    <tr>\n",
       "      <th>0</th>\n",
       "      <td>0.010187</td>\n",
       "      <td>0.01</td>\n",
       "      <td>0.20</td>\n",
       "      <td>0.576923</td>\n",
       "    </tr>\n",
       "    <tr>\n",
       "      <th>1</th>\n",
       "      <td>0.044143</td>\n",
       "      <td>0.04</td>\n",
       "      <td>0.08</td>\n",
       "      <td>0.250000</td>\n",
       "    </tr>\n",
       "    <tr>\n",
       "      <th>2</th>\n",
       "      <td>0.011885</td>\n",
       "      <td>0.01</td>\n",
       "      <td>0.12</td>\n",
       "      <td>0.409091</td>\n",
       "    </tr>\n",
       "    <tr>\n",
       "      <th>3</th>\n",
       "      <td>0.030560</td>\n",
       "      <td>0.00</td>\n",
       "      <td>0.00</td>\n",
       "      <td>0.000000</td>\n",
       "    </tr>\n",
       "    <tr>\n",
       "      <th>4</th>\n",
       "      <td>0.054329</td>\n",
       "      <td>0.05</td>\n",
       "      <td>0.00</td>\n",
       "      <td>0.000000</td>\n",
       "    </tr>\n",
       "  </tbody>\n",
       "</table>\n",
       "</div>"
      ],
      "text/plain": [
       "   diff_num_chars  diff_num_words  num_common_words  ratio_common_words\n",
       "0        0.010187            0.01              0.20            0.576923\n",
       "1        0.044143            0.04              0.08            0.250000\n",
       "2        0.011885            0.01              0.12            0.409091\n",
       "3        0.030560            0.00              0.00            0.000000\n",
       "4        0.054329            0.05              0.00            0.000000"
      ]
     },
     "metadata": {},
     "output_type": "display_data"
    }
   ],
   "source": [
    "from sklearn import preprocessing\n",
    "\n",
    "min_max_scaler = preprocessing.MinMaxScaler()\n",
    "feature_list = [\"diff_num_chars\", \"diff_num_words\", \"num_common_words\", \"ratio_common_words\"]\n",
    "\n",
    "scaled_data = min_max_scaler.fit_transform(features[feature_list])\n",
    "\n",
    "features_scaled = pd.DataFrame(data = scaled_data, columns=feature_list)\n",
    "display(features_scaled.head())\n",
    "#display(test)"
   ]
  },
  {
   "cell_type": "code",
   "execution_count": 19,
   "metadata": {
    "collapsed": false
   },
   "outputs": [
    {
     "name": "stdout",
     "output_type": "stream",
     "text": [
      "Training and testing split was successful.\n"
     ]
    }
   ],
   "source": [
    "from sklearn.cross_validation import train_test_split\n",
    "\n",
    "#Shuffle and split the data into training and testing subsets\n",
    "X_train, X_test, y_train, y_test = train_test_split(features_scaled, results, test_size = 0.2, random_state = 17)\n",
    "\n",
    "print \"Training and testing split was successful.\""
   ]
  },
  {
   "cell_type": "code",
   "execution_count": 20,
   "metadata": {
    "collapsed": false
   },
   "outputs": [
    {
     "name": "stderr",
     "output_type": "stream",
     "text": [
      "C:\\Users\\amalpass\\AppData\\Local\\Continuum\\Anaconda2\\lib\\site-packages\\matplotlib\\font_manager.py:1288: UserWarning: findfont: Font family [u'STIXGeneral'] not found. Falling back to Bitstream Vera Sans\n",
      "  (prop.get_family(), self.defaultFamily[fontext]))\n",
      "C:\\Users\\amalpass\\AppData\\Local\\Continuum\\Anaconda2\\lib\\site-packages\\matplotlib\\font_manager.py:1298: UserWarning: findfont: Could not match :family=Bitstream Vera Sans:style=normal:variant=normal:weight=normal:stretch=normal:size=10.0. Returning C:\\WINDOWS\\Fonts\\GOTHICB.TTF\n",
      "  UserWarning)\n",
      "C:\\Users\\amalpass\\AppData\\Local\\Continuum\\Anaconda2\\lib\\site-packages\\matplotlib\\font_manager.py:1288: UserWarning: findfont: Font family [u'STIXSizeOneSym'] not found. Falling back to Bitstream Vera Sans\n",
      "  (prop.get_family(), self.defaultFamily[fontext]))\n",
      "C:\\Users\\amalpass\\AppData\\Local\\Continuum\\Anaconda2\\lib\\site-packages\\matplotlib\\font_manager.py:1298: UserWarning: findfont: Could not match :family=Bitstream Vera Sans:style=normal:variant=normal:weight=700:stretch=normal:size=10.0. Returning C:\\WINDOWS\\Fonts\\GOTHICB.TTF\n",
      "  UserWarning)\n",
      "C:\\Users\\amalpass\\AppData\\Local\\Continuum\\Anaconda2\\lib\\site-packages\\matplotlib\\font_manager.py:1288: UserWarning: findfont: Font family [u'STIXSizeThreeSym'] not found. Falling back to Bitstream Vera Sans\n",
      "  (prop.get_family(), self.defaultFamily[fontext]))\n",
      "C:\\Users\\amalpass\\AppData\\Local\\Continuum\\Anaconda2\\lib\\site-packages\\matplotlib\\font_manager.py:1288: UserWarning: findfont: Font family [u'STIXSizeFourSym'] not found. Falling back to Bitstream Vera Sans\n",
      "  (prop.get_family(), self.defaultFamily[fontext]))\n",
      "C:\\Users\\amalpass\\AppData\\Local\\Continuum\\Anaconda2\\lib\\site-packages\\matplotlib\\font_manager.py:1288: UserWarning: findfont: Font family [u'STIXSizeFiveSym'] not found. Falling back to Bitstream Vera Sans\n",
      "  (prop.get_family(), self.defaultFamily[fontext]))\n",
      "C:\\Users\\amalpass\\AppData\\Local\\Continuum\\Anaconda2\\lib\\site-packages\\matplotlib\\font_manager.py:1288: UserWarning: findfont: Font family [u'STIXSizeTwoSym'] not found. Falling back to Bitstream Vera Sans\n",
      "  (prop.get_family(), self.defaultFamily[fontext]))\n",
      "C:\\Users\\amalpass\\AppData\\Local\\Continuum\\Anaconda2\\lib\\site-packages\\matplotlib\\font_manager.py:1298: UserWarning: findfont: Could not match :family=Bitstream Vera Sans:style=italic:variant=normal:weight=normal:stretch=normal:size=10.0. Returning C:\\WINDOWS\\Fonts\\GOTHICB.TTF\n",
      "  UserWarning)\n",
      "C:\\Users\\amalpass\\AppData\\Local\\Continuum\\Anaconda2\\lib\\site-packages\\matplotlib\\font_manager.py:1288: UserWarning: findfont: Font family [u'STIXNonUnicode'] not found. Falling back to Bitstream Vera Sans\n",
      "  (prop.get_family(), self.defaultFamily[fontext]))\n",
      "C:\\Users\\amalpass\\AppData\\Local\\Continuum\\Anaconda2\\lib\\site-packages\\matplotlib\\font_manager.py:1288: UserWarning: findfont: Font family [u'cmb10'] not found. Falling back to Bitstream Vera Sans\n",
      "  (prop.get_family(), self.defaultFamily[fontext]))\n",
      "C:\\Users\\amalpass\\AppData\\Local\\Continuum\\Anaconda2\\lib\\site-packages\\matplotlib\\font_manager.py:1288: UserWarning: findfont: Font family [u'cmtt10'] not found. Falling back to Bitstream Vera Sans\n",
      "  (prop.get_family(), self.defaultFamily[fontext]))\n",
      "C:\\Users\\amalpass\\AppData\\Local\\Continuum\\Anaconda2\\lib\\site-packages\\matplotlib\\font_manager.py:1288: UserWarning: findfont: Font family [u'cmmi10'] not found. Falling back to Bitstream Vera Sans\n",
      "  (prop.get_family(), self.defaultFamily[fontext]))\n",
      "C:\\Users\\amalpass\\AppData\\Local\\Continuum\\Anaconda2\\lib\\site-packages\\matplotlib\\font_manager.py:1288: UserWarning: findfont: Font family [u'cmex10'] not found. Falling back to Bitstream Vera Sans\n",
      "  (prop.get_family(), self.defaultFamily[fontext]))\n",
      "C:\\Users\\amalpass\\AppData\\Local\\Continuum\\Anaconda2\\lib\\site-packages\\matplotlib\\font_manager.py:1288: UserWarning: findfont: Font family [u'cmsy10'] not found. Falling back to Bitstream Vera Sans\n",
      "  (prop.get_family(), self.defaultFamily[fontext]))\n"
     ]
    },
    {
     "name": "stdout",
     "output_type": "stream",
     "text": [
      "\n"
     ]
    },
    {
     "name": "stderr",
     "output_type": "stream",
     "text": [
      "C:\\Users\\amalpass\\AppData\\Local\\Continuum\\Anaconda2\\lib\\site-packages\\matplotlib\\font_manager.py:1288: UserWarning: findfont: Font family [u'cmr10'] not found. Falling back to Bitstream Vera Sans\n",
      "  (prop.get_family(), self.defaultFamily[fontext]))\n",
      "C:\\Users\\amalpass\\AppData\\Local\\Continuum\\Anaconda2\\lib\\site-packages\\matplotlib\\font_manager.py:1288: UserWarning: findfont: Font family [u'cmss10'] not found. Falling back to Bitstream Vera Sans\n",
      "  (prop.get_family(), self.defaultFamily[fontext]))\n"
     ]
    },
    {
     "data": {
      "image/png": "[encoded data removed]",
      "text/plain": [
       "<matplotlib.figure.Figure at 0xb845c50>"
      ]
     },
     "metadata": {},
     "output_type": "display_data"
    }
   ],
   "source": [
    "### Visualisation - plot histogram showing how distrubtion of differential number of words between both questions\n",
    "### varies between duplicate and non-duplicate questions ###\n",
    "\n",
    "# Histogram plotting techniques inspired by:\n",
    "# https://www.kaggle.com/anokas/quora-question-pairs/data-analysis-xgboost-starter-0-35460-lb\n",
    "\n",
    "plt.figure(figsize=(12, 5))\n",
    "plt.hist(X_train[\"diff_num_words\"][y_train == 0], bins=30, histtype=\"stepfilled\", alpha = 0.75,label=\"Not duplicate\")\n",
    "plt.hist(X_train[\"diff_num_words\"][y_train == 1], bins=30, histtype=\"stepfilled\", alpha = 0.75, label=\"Duplicate\")\n",
    "plt.yscale('log', nonposy='clip')\n",
    "plt.title('Log-Histogram of differential number of words')\n",
    "plt.xlabel('Difference in number of words')\n",
    "plt.ylabel('Number of questions')\n",
    "plt.legend()\n",
    "print"
   ]
  },
  {
   "cell_type": "code",
   "execution_count": 21,
   "metadata": {
    "collapsed": false
   },
   "outputs": [
    {
     "name": "stdout",
     "output_type": "stream",
     "text": [
      "\n"
     ]
    },
    {
     "data": {
      "image/png": "[encoded data removed]",
      "text/plain": [
       "<matplotlib.figure.Figure at 0x15bf0fd0>"
      ]
     },
     "metadata": {},
     "output_type": "display_data"
    }
   ],
   "source": [
    "### Visualisation - plot histogram showing how distrubtion of differential number of chars between both questions\n",
    "### varies between duplicate and non-duplicate questions ###\n",
    "\n",
    "plt.figure(figsize=(12, 5))\n",
    "plt.hist(X_train[\"diff_num_chars\"][y_train == 0], bins=30, histtype=\"stepfilled\", alpha = 0.75,label=\"Not duplicate\")\n",
    "plt.hist(X_train[\"diff_num_chars\"][y_train == 1], bins=30, histtype=\"stepfilled\", alpha = 0.75, label=\"Duplicate\")\n",
    "plt.yscale('log', nonposy='clip')\n",
    "plt.title('Log-Histogram of differential number of chars')\n",
    "plt.xlabel('Difference in number of chars')\n",
    "plt.ylabel('Number of questions')\n",
    "plt.legend()\n",
    "print"
   ]
  },
  {
   "cell_type": "code",
   "execution_count": 22,
   "metadata": {
    "collapsed": false
   },
   "outputs": [
    {
     "name": "stdout",
     "output_type": "stream",
     "text": [
      "\n"
     ]
    },
    {
     "data": {
      "image/png": "[encoded data removed]",
      "text/plain": [
       "<matplotlib.figure.Figure at 0x10db22e8>"
      ]
     },
     "metadata": {},
     "output_type": "display_data"
    }
   ],
   "source": [
    "### Visualisation - plot histogram showing how distrubtion of number of common words between both questions\n",
    "### varies between duplicate and non-duplicate questions ###\n",
    "\n",
    "plt.figure(figsize=(12, 5))\n",
    "plt.hist(X_train[\"num_common_words\"][y_train == 0], bins=20, histtype=\"stepfilled\", alpha = 0.75, label=\"Not duplicate\")\n",
    "plt.hist(X_train[\"num_common_words\"][y_train == 1], bins=20, histtype=\"stepfilled\", alpha = 0.75, label=\"Duplicate\")\n",
    "plt.yscale('log', nonposy='clip')\n",
    "plt.title('Log-Histogram of number of number of common words')\n",
    "plt.xlabel('Number of common words')\n",
    "plt.ylabel('Number of questions')\n",
    "plt.legend()\n",
    "print"
   ]
  },
  {
   "cell_type": "code",
   "execution_count": 23,
   "metadata": {
    "collapsed": false
   },
   "outputs": [
    {
     "name": "stdout",
     "output_type": "stream",
     "text": [
      "\n"
     ]
    },
    {
     "data": {
      "image/png": "[encoded data removed]",
      "text/plain": [
       "<matplotlib.figure.Figure at 0x10f0dc88>"
      ]
     },
     "metadata": {},
     "output_type": "display_data"
    }
   ],
   "source": [
    "### Visualisation - plot histogram showing how distrubtion of ratio of common words between both questions\n",
    "### varies between duplicate and non-duplicate questions ###\n",
    "\n",
    "plt.figure(figsize=(12, 5))\n",
    "plt.hist(X_train[\"ratio_common_words\"][y_train == 0], bins=50, histtype=\"stepfilled\", alpha = 0.75, label=\"Not duplicate\")\n",
    "plt.hist(X_train[\"ratio_common_words\"][y_train == 1], bins=50, histtype=\"stepfilled\", alpha = 0.75, label=\"Duplicate\")\n",
    "plt.yscale('log', nonposy='clip')\n",
    "plt.title('Log-Histogram of ratio of number of common words')\n",
    "plt.xlabel('Ratio of common words')\n",
    "plt.ylabel('Number of questions')\n",
    "plt.legend()\n",
    "print"
   ]
  },
  {
   "cell_type": "code",
   "execution_count": 24,
   "metadata": {
    "collapsed": true
   },
   "outputs": [],
   "source": [
    "from sklearn.metrics import log_loss\n",
    "\n",
    "def performance_metric(y_true, y_predict):\n",
    "    \"\"\" Calculate and return the performance score between true and predicted values based on the metric chosen. \"\"\"\n",
    "    \n",
    "    # Calculate the performance score between 'y_true' and 'y_predict'  \n",
    "    score = log_loss(y_true, y_predict)\n",
    "    #print score\n",
    "    \n",
    "    # Return the score\n",
    "    return score"
   ]
  },
  {
   "cell_type": "code",
   "execution_count": 25,
   "metadata": {
    "collapsed": false
   },
   "outputs": [],
   "source": [
    "from sklearn.metrics import make_scorer\n",
    "from sklearn.tree import DecisionTreeRegressor\n",
    "from sklearn.linear_model import LinearRegression\n",
    "from sklearn import svm\n",
    "from sklearn.ensemble import RandomForestRegressor\n",
    "from sklearn.grid_search import GridSearchCV\n",
    "from sklearn.cross_validation import ShuffleSplit\n",
    "\n",
    "def fit_model(X, y):\n",
    "    \"\"\" Perform grid search over the 'max_depth' parameter for a decision tree regressor trained on the input data [X, y]. \"\"\"\n",
    "    \n",
    "    # Create cross-validation sets from the training data\n",
    "    print \"DEBUG - making cv_sets\"\n",
    "    cv_sets = ShuffleSplit(X.shape[0], n_iter = 10, test_size = 0.20, random_state = 0)\n",
    "    \n",
    "\n",
    "    print \"DEBUG - making regressor\"\n",
    "    \n",
    "    if algorithm_choice == 0:    #Linear Regression\n",
    "        regressor = LinearRegression()\n",
    "        params = {'fit_intercept':(True, False)}\n",
    "        \n",
    "    elif algorithm_choice == 1:  #SVR\n",
    "        regressor = svm.SVR()\n",
    "        params = {'C': (1,10)}\n",
    "        \n",
    "    elif algorithm_choice == 2:  #Decision Tree\n",
    "        regressor = DecisionTreeRegressor()\n",
    "        params = {'max_depth':(10, None)}\n",
    "        \n",
    "    elif algorithm_choice == 3:  #Random Forest\n",
    "        regressor = RandomForestRegressor(n_estimators = 20)\n",
    "        params = {'max_depth':(10, None)}\n",
    "        #params = {'max_depth':(2,5,10, None), 'min_samples_split':(1,2,3,4)} \n",
    "          \n",
    "\n",
    "    # Transform 'performance_metric' into a scoring function using 'make_scorer' \n",
    "    print \"DEBUG - making scorer\"\n",
    "    scoring_fnc = make_scorer(performance_metric)\n",
    "    \n",
    "    print \"DEBUG - starting gridsearch\"\n",
    "    # Create the grid search object\n",
    "    grid = GridSearchCV(estimator = regressor, param_grid = params, scoring = scoring_fnc, cv = cv_sets, verbose = 1)\n",
    "\n",
    "    print \"DEBUG - finished gridsearch, starting fit\"\n",
    "    # Fit the grid search object to the data to compute the optimal model\n",
    "    grid = grid.fit(X, y)\n",
    "    print \"DEBUG - finished fit\"\n",
    "\n",
    "    # Return the optimal model after fitting the data\n",
    "    return grid.best_estimator_"
   ]
  },
  {
   "cell_type": "code",
   "execution_count": 26,
   "metadata": {
    "collapsed": false
   },
   "outputs": [
    {
     "name": "stderr",
     "output_type": "stream",
     "text": [
      "C:\\Users\\amalpass\\AppData\\Local\\Continuum\\Anaconda2\\lib\\site-packages\\ipykernel\\__main__.py:2: SettingWithCopyWarning: \n",
      "A value is trying to be set on a copy of a slice from a DataFrame\n",
      "\n",
      "See the caveats in the documentation: http://pandas.pydata.org/pandas-docs/stable/indexing.html#indexing-view-versus-copy\n",
      "  from ipykernel import kernelapp as app\n",
      "C:\\Users\\amalpass\\AppData\\Local\\Continuum\\Anaconda2\\lib\\site-packages\\ipykernel\\__main__.py:3: SettingWithCopyWarning: \n",
      "A value is trying to be set on a copy of a slice from a DataFrame\n",
      "\n",
      "See the caveats in the documentation: http://pandas.pydata.org/pandas-docs/stable/indexing.html#indexing-view-versus-copy\n",
      "  app.launch_new_instance()\n",
      "C:\\Users\\amalpass\\AppData\\Local\\Continuum\\Anaconda2\\lib\\site-packages\\ipykernel\\__main__.py:4: SettingWithCopyWarning: \n",
      "A value is trying to be set on a copy of a slice from a DataFrame\n",
      "\n",
      "See the caveats in the documentation: http://pandas.pydata.org/pandas-docs/stable/indexing.html#indexing-view-versus-copy\n",
      "C:\\Users\\amalpass\\AppData\\Local\\Continuum\\Anaconda2\\lib\\site-packages\\ipykernel\\__main__.py:5: SettingWithCopyWarning: \n",
      "A value is trying to be set on a copy of a slice from a DataFrame\n",
      "\n",
      "See the caveats in the documentation: http://pandas.pydata.org/pandas-docs/stable/indexing.html#indexing-view-versus-copy\n"
     ]
    },
    {
     "name": "stdout",
     "output_type": "stream",
     "text": [
      "Removed unwanted features\n"
     ]
    }
   ],
   "source": [
    "#Remove unnecessary feature\n",
    "X_train.drop([\"diff_num_chars\"], axis = 1, inplace = True)\n",
    "X_test.drop([\"diff_num_chars\"], axis = 1, inplace = True)\n",
    "X_train.drop([\"num_common_words\"], axis = 1, inplace = True)\n",
    "X_test.drop([\"num_common_words\"], axis = 1, inplace = True)\n",
    "print \"Removed unwanted features\""
   ]
  },
  {
   "cell_type": "code",
   "execution_count": 27,
   "metadata": {
    "collapsed": false
   },
   "outputs": [
    {
     "name": "stdout",
     "output_type": "stream",
     "text": [
      "Skipping since using XGBoost\n"
     ]
    }
   ],
   "source": [
    "if algorithm_choice != 4: #calculate test predictions (in case of any algorithms except XGBoost)\n",
    "\n",
    "    # Fit the training data to the model using grid search\n",
    "\n",
    "    print \"DEBUG - calling fit_model\"\n",
    "    reg = fit_model(X_train, y_train)\n",
    "\n",
    "    # Print the optimal model parameters\n",
    "    #print \"Parameter 'max_depth' is {} for the optimal model.\".format(reg.get_params()['max_depth'])\n",
    "    print \"Optimal model parameters: \", reg.get_params()\n",
    "    \n",
    "else:\n",
    "    print \"Skipping since using XGBoost\""
   ]
  },
  {
   "cell_type": "code",
   "execution_count": 28,
   "metadata": {
    "collapsed": false
   },
   "outputs": [
    {
     "name": "stdout",
     "output_type": "stream",
     "text": [
      "Skipping since using XGBoost\n"
     ]
    }
   ],
   "source": [
    "if algorithm_choice != 4: #calculate test predictions (in case of any algorithms except XGBoost)\n",
    "    print features_raw[\"question1\"][3411], features_raw[\"question2\"][3411]\n",
    "    display(X_test.head(10))\n",
    "    preds = reg.predict(X_test)\n",
    "    display(preds[:10])\n",
    "\n",
    "    print performance_metric(y_test, preds)\n",
    "else:\n",
    "    print \"Skipping since using XGBoost\""
   ]
  },
  {
   "cell_type": "code",
   "execution_count": 29,
   "metadata": {
    "collapsed": false
   },
   "outputs": [
    {
     "name": "stdout",
     "output_type": "stream",
     "text": [
      "[0]\ttrain-logloss:0.687315\tvalid-logloss:0.687272\n",
      "Multiple eval metrics have been passed: 'valid-logloss' will be used for early stopping.\n",
      "\n",
      "Will train until valid-logloss hasn't improved in 50 rounds.\n",
      "[10]\ttrain-logloss:0.639847\tvalid-logloss:0.639472\n",
      "[20]\ttrain-logloss:0.606479\tvalid-logloss:0.605887\n",
      "[30]\ttrain-logloss:0.582433\tvalid-logloss:0.581718\n",
      "[40]\ttrain-logloss:0.564784\tvalid-logloss:0.564012\n",
      "[50]\ttrain-logloss:0.551652\tvalid-logloss:0.550862\n",
      "[60]\ttrain-logloss:0.541248\tvalid-logloss:0.540442\n",
      "[70]\ttrain-logloss:0.533271\tvalid-logloss:0.532434\n",
      "[80]\ttrain-logloss:0.527326\tvalid-logloss:0.526482\n",
      "[90]\ttrain-logloss:0.522924\tvalid-logloss:0.522102\n",
      "[100]\ttrain-logloss:0.519486\tvalid-logloss:0.518696\n",
      "[110]\ttrain-logloss:0.516785\tvalid-logloss:0.516036\n",
      "[120]\ttrain-logloss:0.514569\tvalid-logloss:0.513855\n",
      "[130]\ttrain-logloss:0.513029\tvalid-logloss:0.512354\n",
      "[140]\ttrain-logloss:0.511572\tvalid-logloss:0.510937\n",
      "[150]\ttrain-logloss:0.510311\tvalid-logloss:0.509692\n",
      "[160]\ttrain-logloss:0.509389\tvalid-logloss:0.508795\n",
      "[170]\ttrain-logloss:0.508592\tvalid-logloss:0.508007\n",
      "[180]\ttrain-logloss:0.508087\tvalid-logloss:0.507516\n",
      "[190]\ttrain-logloss:0.507599\tvalid-logloss:0.507032\n",
      "[200]\ttrain-logloss:0.507143\tvalid-logloss:0.506588\n",
      "[210]\ttrain-logloss:0.506666\tvalid-logloss:0.506115\n",
      "[220]\ttrain-logloss:0.506381\tvalid-logloss:0.505844\n",
      "[230]\ttrain-logloss:0.506194\tvalid-logloss:0.505677\n",
      "[240]\ttrain-logloss:0.505977\tvalid-logloss:0.505467\n",
      "[250]\ttrain-logloss:0.505818\tvalid-logloss:0.505319\n",
      "[260]\ttrain-logloss:0.505693\tvalid-logloss:0.50519\n",
      "[270]\ttrain-logloss:0.50562\tvalid-logloss:0.505116\n",
      "[280]\ttrain-logloss:0.505528\tvalid-logloss:0.505027\n",
      "[290]\ttrain-logloss:0.505347\tvalid-logloss:0.504828\n",
      "[300]\ttrain-logloss:0.505223\tvalid-logloss:0.504694\n",
      "[310]\ttrain-logloss:0.505131\tvalid-logloss:0.504605\n",
      "[320]\ttrain-logloss:0.505031\tvalid-logloss:0.504511\n",
      "[330]\ttrain-logloss:0.504899\tvalid-logloss:0.504375\n",
      "[340]\ttrain-logloss:0.504766\tvalid-logloss:0.50424\n",
      "[350]\ttrain-logloss:0.504664\tvalid-logloss:0.504132\n",
      "[360]\ttrain-logloss:0.504543\tvalid-logloss:0.504013\n",
      "[370]\ttrain-logloss:0.504429\tvalid-logloss:0.503909\n",
      "[380]\ttrain-logloss:0.504341\tvalid-logloss:0.503823\n",
      "[390]\ttrain-logloss:0.50427\tvalid-logloss:0.503756\n",
      "[399]\ttrain-logloss:0.504212\tvalid-logloss:0.503703\n"
     ]
    }
   ],
   "source": [
    "import xgboost as xgb\n",
    "\n",
    "if algorithm_choice == 4: #XGBoost\n",
    "\n",
    "    # Set our parameters for xgboost\n",
    "    params = {}\n",
    "    params['objective'] = 'binary:logistic'\n",
    "    params['eval_metric'] = 'logloss'\n",
    "    params['eta'] = 0.02\n",
    "    params['max_depth'] = 4\n",
    "\n",
    "    d_train = xgb.DMatrix(X_train, label=y_train)\n",
    "    d_valid = xgb.DMatrix(X_test, label=y_test)\n",
    "\n",
    "    watchlist = [(d_train, 'train'), (d_valid, 'valid')]\n",
    "\n",
    "    bst = xgb.train(params, d_train, 400, watchlist, early_stopping_rounds=50, verbose_eval=10)\n",
    "\n",
    "else:\n",
    "    print \"Skipping since not using XGBoost\"\n"
   ]
  },
  {
   "cell_type": "code",
   "execution_count": 30,
   "metadata": {
    "collapsed": false
   },
   "outputs": [
    {
     "name": "stdout",
     "output_type": "stream",
     "text": [
      "Quora duplicate questions competion test dataset has 2345796 samples with 3 features each.\n"
     ]
    }
   ],
   "source": [
    "#Load the competition testing data set\n",
    "\n",
    "try:\n",
    "    test_data = pd.read_csv(\"test.csv\")\n",
    "    \n",
    "    print \"Quora duplicate questions competion test dataset has {} samples with {} features each.\".format(*test_data.shape)\n",
    "    \n",
    "except:\n",
    "    print \"Dataset(s) could not be loaded. Please check filename is correct and dataset exists\""
   ]
  },
  {
   "cell_type": "code",
   "execution_count": 31,
   "metadata": {
    "collapsed": false
   },
   "outputs": [
    {
     "data": {
      "text/html": [
       "<div>\n",
       "<table border=\"1\" class=\"dataframe\">\n",
       "  <thead>\n",
       "    <tr style=\"text-align: right;\">\n",
       "      <th></th>\n",
       "      <th>test_id</th>\n",
       "      <th>question1</th>\n",
       "      <th>question2</th>\n",
       "    </tr>\n",
       "  </thead>\n",
       "  <tbody>\n",
       "    <tr>\n",
       "      <th>0</th>\n",
       "      <td>0</td>\n",
       "      <td>How does the Surface Pro himself 4 compare wit...</td>\n",
       "      <td>Why did Microsoft choose core m3 and not core ...</td>\n",
       "    </tr>\n",
       "    <tr>\n",
       "      <th>1</th>\n",
       "      <td>1</td>\n",
       "      <td>Should I have a hair transplant at age 24? How...</td>\n",
       "      <td>How much cost does hair transplant require?</td>\n",
       "    </tr>\n",
       "    <tr>\n",
       "      <th>2</th>\n",
       "      <td>2</td>\n",
       "      <td>What but is the best way to send money from Ch...</td>\n",
       "      <td>What you send money to China?</td>\n",
       "    </tr>\n",
       "    <tr>\n",
       "      <th>3</th>\n",
       "      <td>3</td>\n",
       "      <td>Which food not emulsifiers?</td>\n",
       "      <td>What foods fibre?</td>\n",
       "    </tr>\n",
       "    <tr>\n",
       "      <th>4</th>\n",
       "      <td>4</td>\n",
       "      <td>How \"aberystwyth\" start reading?</td>\n",
       "      <td>How their can I start reading?</td>\n",
       "    </tr>\n",
       "  </tbody>\n",
       "</table>\n",
       "</div>"
      ],
      "text/plain": [
       "   test_id                                          question1  \\\n",
       "0        0  How does the Surface Pro himself 4 compare wit...   \n",
       "1        1  Should I have a hair transplant at age 24? How...   \n",
       "2        2  What but is the best way to send money from Ch...   \n",
       "3        3                        Which food not emulsifiers?   \n",
       "4        4                   How \"aberystwyth\" start reading?   \n",
       "\n",
       "                                           question2  \n",
       "0  Why did Microsoft choose core m3 and not core ...  \n",
       "1        How much cost does hair transplant require?  \n",
       "2                      What you send money to China?  \n",
       "3                                  What foods fibre?  \n",
       "4                     How their can I start reading?  "
      ]
     },
     "metadata": {},
     "output_type": "display_data"
    },
    {
     "data": {
      "text/html": [
       "<div>\n",
       "<table border=\"1\" class=\"dataframe\">\n",
       "  <thead>\n",
       "    <tr style=\"text-align: right;\">\n",
       "      <th></th>\n",
       "      <th>diff_num_chars</th>\n",
       "      <th>diff_num_words</th>\n",
       "      <th>num_common_words</th>\n",
       "      <th>ratio_common_words</th>\n",
       "    </tr>\n",
       "  </thead>\n",
       "  <tbody>\n",
       "    <tr>\n",
       "      <th>0</th>\n",
       "      <td>21</td>\n",
       "      <td>4</td>\n",
       "      <td>2</td>\n",
       "      <td>0.111111</td>\n",
       "    </tr>\n",
       "    <tr>\n",
       "      <th>1</th>\n",
       "      <td>4</td>\n",
       "      <td>0</td>\n",
       "      <td>2</td>\n",
       "      <td>0.200000</td>\n",
       "    </tr>\n",
       "    <tr>\n",
       "      <th>2</th>\n",
       "      <td>12</td>\n",
       "      <td>3</td>\n",
       "      <td>2</td>\n",
       "      <td>0.222222</td>\n",
       "    </tr>\n",
       "    <tr>\n",
       "      <th>3</th>\n",
       "      <td>6</td>\n",
       "      <td>0</td>\n",
       "      <td>1</td>\n",
       "      <td>0.250000</td>\n",
       "    </tr>\n",
       "    <tr>\n",
       "      <th>4</th>\n",
       "      <td>14</td>\n",
       "      <td>1</td>\n",
       "      <td>2</td>\n",
       "      <td>0.400000</td>\n",
       "    </tr>\n",
       "  </tbody>\n",
       "</table>\n",
       "</div>"
      ],
      "text/plain": [
       "   diff_num_chars  diff_num_words  num_common_words  ratio_common_words\n",
       "0              21               4                 2            0.111111\n",
       "1               4               0                 2            0.200000\n",
       "2              12               3                 2            0.222222\n",
       "3               6               0                 1            0.250000\n",
       "4              14               1                 2            0.400000"
      ]
     },
     "metadata": {},
     "output_type": "display_data"
    },
    {
     "data": {
      "text/html": [
       "<div>\n",
       "<table border=\"1\" class=\"dataframe\">\n",
       "  <thead>\n",
       "    <tr style=\"text-align: right;\">\n",
       "      <th></th>\n",
       "      <th>diff_num_chars</th>\n",
       "      <th>diff_num_words</th>\n",
       "      <th>num_common_words</th>\n",
       "      <th>ratio_common_words</th>\n",
       "    </tr>\n",
       "  </thead>\n",
       "  <tbody>\n",
       "    <tr>\n",
       "      <th>0</th>\n",
       "      <td>0.035654</td>\n",
       "      <td>0.04</td>\n",
       "      <td>0.08</td>\n",
       "      <td>0.166667</td>\n",
       "    </tr>\n",
       "    <tr>\n",
       "      <th>1</th>\n",
       "      <td>0.006791</td>\n",
       "      <td>0.00</td>\n",
       "      <td>0.08</td>\n",
       "      <td>0.300000</td>\n",
       "    </tr>\n",
       "    <tr>\n",
       "      <th>2</th>\n",
       "      <td>0.020374</td>\n",
       "      <td>0.03</td>\n",
       "      <td>0.08</td>\n",
       "      <td>0.333333</td>\n",
       "    </tr>\n",
       "    <tr>\n",
       "      <th>3</th>\n",
       "      <td>0.010187</td>\n",
       "      <td>0.00</td>\n",
       "      <td>0.04</td>\n",
       "      <td>0.375000</td>\n",
       "    </tr>\n",
       "    <tr>\n",
       "      <th>4</th>\n",
       "      <td>0.023769</td>\n",
       "      <td>0.01</td>\n",
       "      <td>0.08</td>\n",
       "      <td>0.600000</td>\n",
       "    </tr>\n",
       "  </tbody>\n",
       "</table>\n",
       "</div>"
      ],
      "text/plain": [
       "   diff_num_chars  diff_num_words  num_common_words  ratio_common_words\n",
       "0        0.035654            0.04              0.08            0.166667\n",
       "1        0.006791            0.00              0.08            0.300000\n",
       "2        0.020374            0.03              0.08            0.333333\n",
       "3        0.010187            0.00              0.04            0.375000\n",
       "4        0.023769            0.01              0.08            0.600000"
      ]
     },
     "metadata": {},
     "output_type": "display_data"
    }
   ],
   "source": [
    "#Pre-process competition test data in same was as training data\n",
    "display(test_data.head())\n",
    "\n",
    "test_data.fillna(value = \"\", axis = 0, inplace = True)\n",
    "\n",
    "#Make all text lower case\n",
    "test_data[\"question1\"] = test_data[\"question1\"].apply(to_lower_case)\n",
    "test_data[\"question2\"] = test_data[\"question2\"].apply(to_lower_case)\n",
    "\n",
    "#Remove stop words\n",
    "test_data[\"question1\"] = test_data[\"question1\"].apply(remove_stop_words)\n",
    "test_data[\"question2\"] = test_data[\"question2\"].apply(remove_stop_words)\n",
    "\n",
    "#Stem all words\n",
    "test_data[\"question1\"] = test_data[\"question1\"].apply(stem_words)\n",
    "test_data[\"question2\"] = test_data[\"question2\"].apply(stem_words)\n",
    "\n",
    "test_data_features = pd.DataFrame()\n",
    "test_data_features[\"diff_num_chars\"] = test_data.apply(diff_num_chars, axis=1)\n",
    "test_data_features[\"diff_num_words\"] = test_data.apply(diff_num_words, axis=1)\n",
    "test_data_features[\"num_common_words\"] = test_data.apply(num_common_words, axis=1)\n",
    "test_data_features[\"ratio_common_words\"] = test_data.apply(ratio_common_words, axis=1)\n",
    "\n",
    "display(test_data_features.head())\n",
    "\n",
    "#min_max_scaler = preprocessing.MinMaxScaler()\n",
    "feature_list = [\"diff_num_chars\", \"diff_num_words\", \"num_common_words\", \"ratio_common_words\"]\n",
    "\n",
    "test_scaled_data = min_max_scaler.transform(test_data_features[feature_list])\n",
    "\n",
    "test_features_scaled = pd.DataFrame(data = test_scaled_data, columns=feature_list)\n",
    "display(test_features_scaled.head())"
   ]
  },
  {
   "cell_type": "code",
   "execution_count": 32,
   "metadata": {
    "collapsed": false
   },
   "outputs": [
    {
     "name": "stdout",
     "output_type": "stream",
     "text": [
      "Removed unwanted features\n"
     ]
    }
   ],
   "source": [
    "#Remove unnecessary feature\n",
    "#test_data_features.drop([\"diff_num_chars\"], axis = 1, inplace = True)\n",
    "#test_data_features.drop([\"num_common_words\"], axis = 1, inplace = True)\n",
    "test_features_scaled.drop([\"diff_num_chars\"], axis = 1, inplace = True)\n",
    "test_features_scaled.drop([\"num_common_words\"], axis = 1, inplace = True)\n",
    "print \"Removed unwanted features\""
   ]
  },
  {
   "cell_type": "code",
   "execution_count": 33,
   "metadata": {
    "collapsed": false
   },
   "outputs": [
    {
     "data": {
      "text/html": [
       "<div>\n",
       "<table border=\"1\" class=\"dataframe\">\n",
       "  <thead>\n",
       "    <tr style=\"text-align: right;\">\n",
       "      <th></th>\n",
       "      <th>test_id</th>\n",
       "      <th>is_duplicate</th>\n",
       "    </tr>\n",
       "  </thead>\n",
       "  <tbody>\n",
       "    <tr>\n",
       "      <th>0</th>\n",
       "      <td>0</td>\n",
       "      <td>0.081533</td>\n",
       "    </tr>\n",
       "    <tr>\n",
       "      <th>1</th>\n",
       "      <td>1</td>\n",
       "      <td>0.466429</td>\n",
       "    </tr>\n",
       "    <tr>\n",
       "      <th>2</th>\n",
       "      <td>2</td>\n",
       "      <td>0.509093</td>\n",
       "    </tr>\n",
       "    <tr>\n",
       "      <th>3</th>\n",
       "      <td>3</td>\n",
       "      <td>0.510349</td>\n",
       "    </tr>\n",
       "    <tr>\n",
       "      <th>4</th>\n",
       "      <td>4</td>\n",
       "      <td>0.592357</td>\n",
       "    </tr>\n",
       "  </tbody>\n",
       "</table>\n",
       "</div>"
      ],
      "text/plain": [
       "   test_id  is_duplicate\n",
       "0        0      0.081533\n",
       "1        1      0.466429\n",
       "2        2      0.509093\n",
       "3        3      0.510349\n",
       "4        4      0.592357"
      ]
     },
     "metadata": {},
     "output_type": "display_data"
    }
   ],
   "source": [
    "if algorithm_choice == 4: #XGBoost\n",
    "    d_test = xgb.DMatrix(test_features_scaled)\n",
    "    #d_test = xgb.DMatrix(test_data_features)\n",
    "    test_predictions = bst.predict(d_test)\n",
    "else:  #Scikit-learn\n",
    "    test_predictions = reg.predict(test_features_scaled)\n",
    "    #test_predictions = reg.predict(test_features_scaled)\n",
    "\n",
    "#print \"Test_data_features shape: \", test_data_features.shape\n",
    "#print \"Test_predictions shape: \", test_predictions.shape\n",
    "final_output = pd.concat([test_data[\"test_id\"], pd.Series(test_predictions, name = \"is_duplicate\")], axis=1)\n",
    "\n",
    "#print \"Final output has {} samples with {} features each.\".format(*final_output.shape)\n",
    "\n",
    "display(final_output.head())"
   ]
  },
  {
   "cell_type": "code",
   "execution_count": 34,
   "metadata": {
    "collapsed": false
   },
   "outputs": [
    {
     "name": "stdout",
     "output_type": "stream",
     "text": [
      "Final predictions written to final_output.csv successfully\n"
     ]
    }
   ],
   "source": [
    "final_output.to_csv(\"final_output.csv\", index = False)\n",
    "print \"Final predictions written to final_output.csv successfully\""
   ]
  },
  {
   "cell_type": "code",
   "execution_count": null,
   "metadata": {
    "collapsed": true
   },
   "outputs": [],
   "source": []
  }
 ],
 "metadata": {
  "kernelspec": {
   "display_name": "Python 2",
   "language": "python",
   "name": "python2"
  },
  "language_info": {
   "codemirror_mode": {
    "name": "ipython",
    "version": 2
   },
   "file_extension": ".py",
   "mimetype": "text/x-python",
   "name": "python",
   "nbconvert_exporter": "python",
   "pygments_lexer": "ipython2",
   "version": "2.7.11"
  }
 },
 "nbformat": 4,
 "nbformat_minor": 0
}
